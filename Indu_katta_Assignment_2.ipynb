{
 "cells": [
  {
   "cell_type": "code",
   "execution_count": 14,
   "id": "9c0938ff",
   "metadata": {},
   "outputs": [],
   "source": [
    "import pandas as pd\n",
    "df=pd.read_csv(\"yelp.csv\")\n",
    "df = df.replace(r'\\n',' ', regex=True)\n",
    "df.to_csv(\"modified_yelp.csv\")"
   ]
  },
  {
   "cell_type": "markdown",
   "id": "12c3c66b",
   "metadata": {},
   "source": [
    "1. Average number of words in each review (define “words” however you like but be explicit about it)"
   ]
  },
  {
   "cell_type": "code",
   "execution_count": 15,
   "id": "e39fc60f",
   "metadata": {},
   "outputs": [
    {
     "name": "stdout",
     "output_type": "stream",
     "text": [
      "Overwriting wordcount.py\n"
     ]
    }
   ],
   "source": [
    "%%file wordcount.py\n",
    "from mrjob.job import MRJob\n",
    "import csv\n",
    "\n",
    "class AvgWordCount(MRJob):\n",
    "\n",
    "    def mapper(self, _, line):\n",
    "        #parse the input line as a CSV row\n",
    "        row = next(csv.reader([line]))\n",
    "        text = row[5]\n",
    "        yield \"word_count\", len(text.split())\n",
    "\n",
    "    def reducer(self, key, values):\n",
    "        total_words = 0\n",
    "        total_reviews = 0\n",
    "        #iterating through the word counts and counting the total number of words\n",
    "        #also count the total number of reviews\n",
    "        for word_count in values:\n",
    "            total_words += word_count\n",
    "            total_reviews += 1\n",
    "        #average number of words per review\n",
    "        average_words_per_review = total_words / total_reviews\n",
    "        yield \"average\", average_words_per_review\n",
    "\n",
    "if __name__ == '__main__':\n",
    "    AvgWordCount.run()"
   ]
  },
  {
   "cell_type": "code",
   "execution_count": 16,
   "id": "c2d402aa",
   "metadata": {},
   "outputs": [
    {
     "name": "stderr",
     "output_type": "stream",
     "text": [
      "No configs specified for inline runner\n"
     ]
    },
    {
     "name": "stdout",
     "output_type": "stream",
     "text": [
      "average: 131.02659734026597\n"
     ]
    }
   ],
   "source": [
    "import wordcount\n",
    "\n",
    "mr_job = wordcount.AvgWordCount(args=['modified_yelp.csv'])\n",
    "\n",
    "with mr_job.make_runner() as runner:\n",
    "    runner.run()\n",
    "    \n",
    "    total_word_count = 0\n",
    "    total_review_count = 0\n",
    "    \n",
    "    for key, value in mr_job.parse_output(runner.cat_output()):\n",
    "        total_word_count += value  \n",
    "        total_review_count += 1  \n",
    "\n",
    "    average_word_count = total_word_count / total_review_count\n",
    "    print(\"average:\", average_word_count)"
   ]
  },
  {
   "cell_type": "markdown",
   "id": "a3cd2f9b",
   "metadata": {},
   "source": [
    "2. Count of Reviews by year-month (eg \"2021-09\")"
   ]
  },
  {
   "cell_type": "code",
   "execution_count": 17,
   "id": "b631b323",
   "metadata": {},
   "outputs": [
    {
     "name": "stdout",
     "output_type": "stream",
     "text": [
      "Overwriting countpermonth.py\n"
     ]
    }
   ],
   "source": [
    "%%file countpermonth.py\n",
    "from mrjob.job import MRJob\n",
    "import csv\n",
    "\n",
    "class CountPerMonth(MRJob):\n",
    "\n",
    "    def mapper(self, _, line):\n",
    "        #parse the input line as a CSV row\n",
    "        row = next(csv.reader([line]))\n",
    "        #extract the date field\n",
    "        date = row[2]  \n",
    "        #extract the year and month\n",
    "        year_month = date[:7]  \n",
    "        #emit key-value pair with year-month as key and count 1 as value\n",
    "        yield year_month, 1\n",
    "\n",
    "    def reducer(self, year_month, counts):\n",
    "        total_count = sum(counts)\n",
    "        yield year_month, total_count\n",
    "\n",
    "if __name__ == '__main__':\n",
    "    CountPerMonth.run()"
   ]
  },
  {
   "cell_type": "code",
   "execution_count": 18,
   "id": "816d40c0",
   "metadata": {},
   "outputs": [
    {
     "name": "stderr",
     "output_type": "stream",
     "text": [
      "No configs specified for inline runner\n"
     ]
    },
    {
     "name": "stdout",
     "output_type": "stream",
     "text": [
      "2012-02 219\n",
      "2012-03 259\n",
      "2012-04 265\n",
      "2012-05 275\n",
      "2012-06 272\n",
      "2012-07 281\n",
      "2010-09 150\n",
      "2010-10 144\n",
      "2010-11 147\n",
      "2010-12 160\n",
      "2011-01 239\n",
      "2009-04 101\n",
      "2009-05 101\n",
      "2009-06 67\n",
      "2009-07 95\n",
      "2009-08 98\n",
      "2009-09 113\n",
      "2009-10 101\n",
      "2009-11 78\n",
      "2009-12 104\n",
      "2010-01 154\n",
      "2010-02 148\n",
      "2010-03 168\n",
      "2010-04 148\n",
      "2010-05 154\n",
      "2010-06 118\n",
      "2010-07 160\n",
      "2010-08 201\n",
      "2012-11 208\n",
      "2012-12 196\n",
      "2013-01 52\n",
      "date 1\n",
      "2012-08 249\n",
      "2012-09 239\n",
      "2012-10 258\n",
      "2011-08 266\n",
      "2011-09 193\n",
      "2011-10 204\n",
      "2008-07 80\n",
      "2008-08 75\n",
      "2008-09 59\n",
      "2008-10 79\n",
      "2008-11 66\n",
      "2008-12 71\n",
      "2009-01 108\n",
      "2009-02 79\n",
      "2009-03 126\n",
      "2011-02 216\n",
      "2011-03 263\n",
      "2011-04 263\n",
      "2011-05 229\n",
      "2011-06 230\n",
      "2011-07 236\n",
      "2005-04 1\n",
      "2005-07 2\n",
      "2005-12 1\n",
      "2006-01 6\n",
      "2006-02 9\n",
      "2006-04 2\n",
      "2006-05 1\n",
      "2006-06 5\n",
      "2006-07 2\n",
      "2006-08 9\n",
      "2006-09 4\n",
      "2006-10 5\n",
      "2006-11 6\n",
      "2006-12 6\n",
      "2007-01 14\n",
      "2007-02 20\n",
      "2007-03 42\n",
      "2007-04 8\n",
      "2007-05 23\n",
      "2007-06 12\n",
      "2007-07 35\n",
      "2007-08 29\n",
      "2007-09 26\n",
      "2007-10 23\n",
      "2007-11 28\n",
      "2007-12 25\n",
      "2008-01 46\n",
      "2008-02 48\n",
      "2008-03 47\n",
      "2008-04 53\n",
      "2008-05 65\n",
      "2008-06 76\n",
      "2011-11 203\n",
      "2011-12 249\n",
      "2012-01 304\n"
     ]
    }
   ],
   "source": [
    "import countpermonth\n",
    "mr_job = countpermonth.CountPerMonth(args=['modified_yelp.csv'])\n",
    "with mr_job.make_runner() as runner:\n",
    "    runner.run()\n",
    "    \n",
    "    counts_per_month = {}\n",
    "    for year_month, count in mr_job.parse_output(runner.cat_output()):\n",
    "        counts_per_month[year_month] = counts_per_month.get(year_month, 0) + count\n",
    "    \n",
    "    for year_month, count in counts_per_month.items():\n",
    "        print(year_month, count)"
   ]
  },
  {
   "cell_type": "markdown",
   "id": "9440329c",
   "metadata": {},
   "source": [
    "3. Average rating of any review marked \"cool\" (eg where cool!=0)"
   ]
  },
  {
   "cell_type": "code",
   "execution_count": 19,
   "id": "c5edc104",
   "metadata": {},
   "outputs": [
    {
     "name": "stdout",
     "output_type": "stream",
     "text": [
      "Overwriting cool.py\n"
     ]
    }
   ],
   "source": [
    "%%file cool.py\n",
    "from mrjob.job import MRJob\n",
    "import csv\n",
    "from statistics import mean\n",
    "import re\n",
    "\n",
    "class cool(MRJob):\n",
    "\n",
    "    def mapper(self, _, line):\n",
    "        row = next(csv.reader([line]))\n",
    "        id, business_id, date, review_id, stars, text, type, user_id, cool, useful, funny = row\n",
    "        if re.match(r'^[0-9]+$', stars) and int(cool) != 0:\n",
    "            yield None, int(stars)\n",
    "\n",
    "    def reducer(self, _, star_ratings):\n",
    "        # Computing the average star rating of cool reviews\n",
    "        ratings = list(star_ratings)\n",
    "        if ratings:\n",
    "            yield \"average\", mean(ratings)\n",
    "\n",
    "if __name__ == '__main__':\n",
    "    cool.run()"
   ]
  },
  {
   "cell_type": "code",
   "execution_count": 20,
   "id": "90ad481b",
   "metadata": {},
   "outputs": [
    {
     "name": "stderr",
     "output_type": "stream",
     "text": [
      "No configs specified for inline runner\n"
     ]
    },
    {
     "name": "stdout",
     "output_type": "stream",
     "text": [
      "average 3.8649595687331537\n"
     ]
    }
   ],
   "source": [
    "import cool\n",
    "mr_job = cool.cool(args=['modified_yelp.csv'])\n",
    "try:\n",
    "    with mr_job.make_runner() as runner:\n",
    "        runner.run()\n",
    "        for key, value in mr_job.parse_output(runner.cat_output()):\n",
    "            print(\"average\", value)\n",
    "except Exception as e:\n",
    "    print(\"An error occurred:\", e)"
   ]
  },
  {
   "cell_type": "code",
   "execution_count": null,
   "id": "24e228d6",
   "metadata": {},
   "outputs": [],
   "source": []
  }
 ],
 "metadata": {
  "kernelspec": {
   "display_name": "Python 3 (ipykernel)",
   "language": "python",
   "name": "python3"
  },
  "language_info": {
   "codemirror_mode": {
    "name": "ipython",
    "version": 3
   },
   "file_extension": ".py",
   "mimetype": "text/x-python",
   "name": "python",
   "nbconvert_exporter": "python",
   "pygments_lexer": "ipython3",
   "version": "3.11.4"
  }
 },
 "nbformat": 4,
 "nbformat_minor": 5
}
